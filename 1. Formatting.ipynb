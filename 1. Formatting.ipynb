{
 "cells": [
  {
   "metadata": {},
   "cell_type": "markdown",
   "source": "<img height=\"250\" src=\"https://i.postimg.cc/gjptBxF4/logo-gas-removebg-preview.png\" width=\"250\"/>",
   "id": "3c464a3c29e500e9"
  },
  {
   "metadata": {
    "ExecuteTime": {
     "end_time": "2024-12-18T16:51:48.861174Z",
     "start_time": "2024-12-18T16:51:47.576277Z"
    }
   },
   "cell_type": "code",
   "source": [
    "import os\n",
    "\n",
    "import pandas as pd\n",
    "from warnings import filterwarnings\n",
    "\n",
    "filterwarnings(\"ignore\")\n",
    "\n",
    "# Importando dados climáticos e fenológicos\n",
    "path = os.path.join(os.getcwd(), \"data\", \"DADOS_ARTIGO_AMENDOIM.xlsx\")\n",
    "clima = pd.read_excel(path, \"Dados Climáticos\")\n",
    "fenologia = pd.read_excel(path, \"Fenologia\")"
   ],
   "id": "2d2ae1363969e3b8",
   "outputs": [],
   "execution_count": 1
  },
  {
   "metadata": {
    "ExecuteTime": {
     "end_time": "2024-12-18T16:51:48.899974Z",
     "start_time": "2024-12-18T16:51:48.890499Z"
    }
   },
   "cell_type": "code",
   "source": [
    "# Restringindo valores de \"clima\" para ≥ 2023-11-23 00:00:00 e ≤ 2024-04-30 00:00:00\n",
    "clima = clima.loc[(clima.Dia >= \"2023-11-23 00:00:00\") & (clima.Dia <= \"2024-04-30 00:00:00\")].reset_index(drop=True)"
   ],
   "id": "b4bc5e1987e9499e",
   "outputs": [],
   "execution_count": 2
  },
  {
   "metadata": {
    "ExecuteTime": {
     "end_time": "2024-12-18T16:51:48.952998Z",
     "start_time": "2024-12-18T16:51:48.907506Z"
    }
   },
   "cell_type": "code",
   "source": [
    "# Excluindo a primeira linha\n",
    "fenologia = fenologia.iloc[:,0:]\n",
    "\n",
    "# transformando a primeira linha em colunas\n",
    "cols = fenologia.iloc[0,:].values\n",
    "fenologia.columns = cols\n",
    "fenologia = fenologia.iloc[1:,:].reset_index(drop=True)"
   ],
   "id": "eba454f7bd766cdf",
   "outputs": [],
   "execution_count": 3
  },
  {
   "metadata": {
    "ExecuteTime": {
     "end_time": "2024-12-18T16:51:48.970125Z",
     "start_time": "2024-12-18T16:51:48.961626Z"
    }
   },
   "cell_type": "code",
   "source": [
    "# Renomeando valores inteiros de cultivar e repetição C1 - C₂₂ e B1 - B3\n",
    "rep_mapping = {1: \"B1\", 2: \"B2\", 3: \"B3\"} # Dicionários de mapeamento\n",
    "cultivar_mapping = {i: f\"C{i}\" for i in range(1, 23)}\n",
    "\n",
    "# Aplicando os mapeamentos\n",
    "fenologia['Rep'] = fenologia['Rep'].map(rep_mapping)\n",
    "fenologia['Cultivar'] = fenologia['Cultivar'].map(cultivar_mapping)"
   ],
   "id": "6a72baf596bdb392",
   "outputs": [],
   "execution_count": 4
  },
  {
   "metadata": {
    "ExecuteTime": {
     "end_time": "2024-12-18T16:51:49.338813Z",
     "start_time": "2024-12-18T16:51:49.267079Z"
    }
   },
   "cell_type": "code",
   "source": [
    "# Convertendo datas para a mesma base\n",
    "cols = fenologia.columns[2:]\n",
    "for name in cols:\n",
    "    fenologia[str(name)] = fenologia[str(name)].apply(pd.to_datetime)"
   ],
   "id": "5c64111203de7023",
   "outputs": [],
   "execution_count": 5
  },
  {
   "metadata": {
    "ExecuteTime": {
     "end_time": "2024-12-18T16:51:57.714181Z",
     "start_time": "2024-12-18T16:51:49.511042Z"
    }
   },
   "cell_type": "code",
   "source": [
    "from util.methods import create_dataframes\n",
    "\n",
    "# Lista de estádios fenológicos\n",
    "estadios = [\"S\", \"VE\", \"V0\", \"V1\", \"V2\", \"V3\", \"V4\", \"V5\", \"V6\", \n",
    "            \"R1\", \"R2\", \"R3\", \"R4\", \"R5\", \"R6\", \"R7\", \"R8\"]\n",
    "\n",
    "# Listando cultivares\n",
    "cultivares = ['C1', 'C2', 'C3', 'C4', 'C5', 'C6', 'C7', 'C8', 'C9', 'C10', 'C11',\n",
    "              'C12', 'C13', 'C14', 'C15', 'C16', 'C17', 'C18', 'C19', 'C20',\n",
    "              'C21', 'C22']\n",
    "\n",
    "# Lista de repetições\n",
    "repeticao = ['B1', 'B2', 'B3']\n",
    "\n",
    "dfs = create_dataframes(clima, fenologia, cultivares, repeticao, estadios)\n",
    "final_df = pd.concat(dfs, ignore_index=True)"
   ],
   "id": "5eba74c6c613df8e",
   "outputs": [],
   "execution_count": 6
  },
  {
   "metadata": {
    "ExecuteTime": {
     "end_time": "2024-12-18T16:51:57.729221Z",
     "start_time": "2024-12-18T16:51:57.720206Z"
    }
   },
   "cell_type": "code",
   "source": [
    "from util.methods import fill_none_with_previous_value\n",
    "\n",
    "final_df = fill_none_with_previous_value(final_df)"
   ],
   "id": "e9398571b26506e4",
   "outputs": [],
   "execution_count": 7
  },
  {
   "metadata": {},
   "cell_type": "markdown",
   "source": "Calculando Graus dias",
   "id": "7d06c10fe62486ca"
  },
  {
   "metadata": {
    "ExecuteTime": {
     "end_time": "2024-12-18T16:51:58.882750Z",
     "start_time": "2024-12-18T16:51:57.755753Z"
    }
   },
   "cell_type": "code",
   "source": [
    "# Definindo colunas de Graus dias (DG) e Somatório (SDG)\n",
    "final_df['DG'] = None\n",
    "final_df['SDG'] = None\n",
    "Tb = 13 # °C\n",
    "Tmax = 33 # °C\n",
    "\n",
    "# Criando iteração para calcular os dados das colunas\n",
    "for i in final_df.index:\n",
    "    if (final_df.at[i, 'T2M'] < Tb or \n",
    "            final_df.at[i, 'T2M'] > Tmax):\n",
    "        final_df.at[i, 'DG'] = 0\n",
    "    else:\n",
    "        final_df.at[i, 'DG'] = max(0, final_df.at[i, 'T2M'] - Tb)\n",
    "    if i > 0 and final_df.at[i, 'Rep'] == final_df.at[i-1, 'Rep']:\n",
    "        # Continua o somatório se \"Rep\" for igual ao anterior\n",
    "        final_df.at[i, 'SDG'] = final_df.at[i-1, 'SDG'] + final_df.at[i, 'DG']\n",
    "    else:\n",
    "        # Reinicia o somatório se \"Rep\" mudar\n",
    "        final_df.at[i, 'SDG'] = final_df.at[i, 'DG']\n",
    "        \n",
    "# Convertendo dados numéricos do dataframe para float\n",
    "final_df['SDG'] = final_df['SDG'].astype(float)\n",
    "final_df[\"DG\"] = final_df[\"DG\"].astype(float)"
   ],
   "id": "a39eb18b168c8488",
   "outputs": [],
   "execution_count": 8
  },
  {
   "metadata": {},
   "cell_type": "markdown",
   "source": "Adicionando variáveis climáticas",
   "id": "85a2a9cc28c859ec"
  },
  {
   "metadata": {
    "ExecuteTime": {
     "end_time": "2024-12-18T16:51:59.722023Z",
     "start_time": "2024-12-18T16:51:58.913684Z"
    }
   },
   "cell_type": "code",
   "source": [
    "from util.methods import timestamp_to_dj, dr, conversor_coord, Qo, fotop, par, etp_camargo, balanco_hidrico\n",
    "from numpy import mean\n",
    "\n",
    "lat = conversor_coord(21,14,5, hem=\"S\")\n",
    "lon = conversor_coord(48,17,9, long=\"W\")\n",
    "CAD = (0.3799-0.297)*1.13*300\n",
    "\n",
    "# Santos et al. (2003)\n",
    "angA = mean([0.2449, 0.2636, 0.3129, 0.2996, 0.2634])\n",
    "angB = mean([0.4866, 0.4652, 0.3996, 0.4351, 0.4775])\n",
    "\n",
    "final_df['NDJ'] = final_df['Dia'].apply(timestamp_to_dj)\n",
    "final_df['DR'] = final_df['NDJ'].apply(dr)\n",
    "final_df['Qo'] = final_df.apply(lambda x: Qo(lat, x['NDJ']), axis=1)\n",
    "final_df['Fotop'] = final_df.apply(lambda x: fotop(lat, x['NDJ']), axis=1)\n",
    "final_df['PAR'] = final_df['Qg'].apply(par)\n",
    "final_df['ETp'] = final_df.apply(lambda x: etp_camargo(lat, x['NDJ'], x['T2M']), axis=1) # Camargo 1971"
   ],
   "id": "96622009817872b9",
   "outputs": [],
   "execution_count": 9
  },
  {
   "metadata": {},
   "cell_type": "markdown",
   "source": [
    "<img src=\"images\\img.png\"/>\n",
    "<br>fonte: Vieira (2019). \n",
    "Disponível em: https://hdl.handle.net/11449/183552 \n",
    "<br>"
   ],
   "id": "e31c5d81140e81b2"
  },
  {
   "metadata": {},
   "cell_type": "markdown",
   "source": [
    "# Balanço hídrico\n",
    "\n",
    "## CAD (mm) = ($\\theta_{cc}$-$\\theta_{pmp}$)$\\times$Ds$\\times$Z$\\times$10 <br>\n",
    "$\\theta_{cc}$ = cm$^{3}$ cm$^{-3}$ <br>\n",
    "$\\theta_{pmp}$ = cm$^{3}$ cm$^{-3}$ <br>\n",
    "Ds = g cm$^{-3}$ <br>\n",
    "Z = cm (amendoim = 30 cm)"
   ],
   "id": "3f851b3c258f99d5"
  },
  {
   "metadata": {
    "ExecuteTime": {
     "end_time": "2024-11-27T23:08:02.596108700Z",
     "start_time": "2024-11-13T01:24:30.765592Z"
    }
   },
   "cell_type": "code",
   "source": [
    "recorte = final_df.loc[(final_df['Cultivar']==\"C1\")&(final_df['Rep']==\"B1\"),:]\n",
    "recorte = balanco_hidrico(recorte, CAD)"
   ],
   "id": "b21b672cd537cc81",
   "outputs": [],
   "execution_count": 10
  },
  {
   "metadata": {
    "ExecuteTime": {
     "end_time": "2024-11-27T23:08:02.601106900Z",
     "start_time": "2024-11-13T01:24:31.032242Z"
    }
   },
   "cell_type": "code",
   "source": [
    "recorte.drop(columns=['PS', 'TMAX', 'TMIN', 'T2M', 'URMAX', 'URMIN', 'UR2M',\n",
    "       'NDH > 90%', 'PREC', 'W2M', 'Rajada Máxima', 'Qg', 'Cultivar', 'Rep',\n",
    "       'Estadio', 'DG', 'SDG', 'NDJ', 'DR', 'Qo', 'Fotop', 'PAR', 'ETp'], inplace=True)\n",
    "\n",
    "final_df = final_df.merge(recorte, on='Dia', how='left')"
   ],
   "id": "596da3b3b47c1657",
   "outputs": [],
   "execution_count": 11
  },
  {
   "metadata": {
    "ExecuteTime": {
     "end_time": "2024-11-27T23:08:02.604108200Z",
     "start_time": "2024-11-13T01:24:31.073584Z"
    }
   },
   "cell_type": "code",
   "source": [
    "# DC = Total de dias de ciclo\n",
    "final_df['DC'] = None\n",
    "\n",
    "# Pegar todas as combinações únicas de 'Cultivar' e 'Rep'\n",
    "unique_combinations = final_df[['Cultivar', 'Rep']].drop_duplicates()\n",
    "\n",
    "# Loop por cada combinação e calcular 'DC'\n",
    "for _, row in unique_combinations.iterrows():\n",
    "    cultivar = row['Cultivar']\n",
    "    rep = row['Rep']\n",
    "\n",
    "    # Filtrar dados para a combinação atual de 'Cultivar' e 'Rep'\n",
    "    mask = (final_df['Cultivar'] == cultivar) & (final_df['Rep'] == rep)\n",
    "    subset_df = final_df.loc[mask]\n",
    "\n",
    "    # Encontrar a primeira ocorrência de 'S' e 'R8'\n",
    "    start_date = subset_df.loc[subset_df['Estadio'] == 'S', 'Dia'].min()\n",
    "    end_date = subset_df.loc[subset_df['Estadio'] == 'R8', 'Dia'].min()\n",
    "\n",
    "    # Calcular a diferença de dias entre 'S' e 'R8'\n",
    "    if pd.notna(start_date) and pd.notna(end_date) and start_date <= end_date:\n",
    "        cycle_days = (end_date - start_date).days\n",
    "        final_df.loc[mask, 'DC'] = cycle_days"
   ],
   "id": "97f8667cc383909b",
   "outputs": [],
   "execution_count": 12
  },
  {
   "metadata": {
    "ExecuteTime": {
     "end_time": "2024-11-27T23:08:02.605108Z",
     "start_time": "2024-11-13T01:24:31.238402Z"
    }
   },
   "cell_type": "code",
   "source": [
    "final_df = final_df[['Dia','Cultivar', 'Rep','Estadio',\"DC\",\n",
    "'PS','TMAX','TMIN','T2M','URMAX','URMIN','UR2M','NDH > 90%','PREC',\"ETp\",'W2M','Rajada Máxima','DG',\n",
    "'NDJ', 'DR', 'Qo', 'Qg','Fotop', 'PAR', \n",
    "'P-ETP', 'NAC', 'ARM', 'ALT', 'ETR', 'DEF', 'EXC', 'SDG',]]"
   ],
   "id": "c279529182a3dc72",
   "outputs": [],
   "execution_count": 13
  },
  {
   "metadata": {
    "ExecuteTime": {
     "end_time": "2024-11-27T23:08:02.606107600Z",
     "start_time": "2024-11-13T01:24:31.278302Z"
    }
   },
   "cell_type": "code",
   "source": [
    "resultado = (final_df.groupby([\"Cultivar\",\"Rep\",\"DC\"]).agg({\n",
    "    'PS':               \"mean\",\n",
    "    'TMAX':             \"mean\",\n",
    "    'TMIN':             \"mean\",\n",
    "    'T2M':              \"mean\",\n",
    "    'URMAX':            \"mean\",\n",
    "    'URMIN':            \"mean\",\n",
    "    'UR2M':             \"mean\",\n",
    "    'NDH > 90%':        \"mean\",\n",
    "    'PREC':             \"sum\",\n",
    "    \"ETp\":              \"mean\",\n",
    "    'W2M':              \"mean\",\n",
    "    'Rajada Máxima':    \"mean\",\n",
    "}).sort_values(by=['Cultivar'], ascending=True).reset_index())"
   ],
   "id": "f69be390f285d38",
   "outputs": [],
   "execution_count": 14
  },
  {
   "metadata": {
    "ExecuteTime": {
     "end_time": "2024-11-27T23:08:02.608108300Z",
     "start_time": "2024-11-13T01:24:31.326868Z"
    }
   },
   "cell_type": "code",
   "source": [
    "# Saving dataframe\n",
    "with pd.ExcelWriter(path, engine='openpyxl', mode='a', if_sheet_exists=\"replace\") as writer:\n",
    "    final_df.to_excel(writer, sheet_name='Dados_finais', index=False)\n",
    "    \n",
    "with pd.ExcelWriter(path, engine='openpyxl', mode='a', if_sheet_exists=\"replace\") as writer:\n",
    "    resultado.to_excel(writer, sheet_name='medias', index=False)"
   ],
   "id": "de57bcdd58048070",
   "outputs": [],
   "execution_count": 15
  },
  {
   "metadata": {
    "ExecuteTime": {
     "end_time": "2024-11-27T23:08:02.609107200Z",
     "start_time": "2024-11-13T01:24:52.861432Z"
    }
   },
   "cell_type": "code",
   "source": "",
   "id": "8601f6cbc2078155",
   "outputs": [],
   "execution_count": null
  }
 ],
 "metadata": {
  "kernelspec": {
   "display_name": "Python 3",
   "language": "python",
   "name": "python3"
  },
  "language_info": {
   "codemirror_mode": {
    "name": "ipython",
    "version": 2
   },
   "file_extension": ".py",
   "mimetype": "text/x-python",
   "name": "python",
   "nbconvert_exporter": "python",
   "pygments_lexer": "ipython2",
   "version": "2.7.6"
  }
 },
 "nbformat": 4,
 "nbformat_minor": 5
}
